{
 "metadata": {
  "name": "",
  "signature": "sha256:e088d1846e43d72ca7552f52377d72df7a92a7ba2381fc810046ef5f1e788169"
 },
 "nbformat": 3,
 "nbformat_minor": 0,
 "worksheets": [
  {
   "cells": [
    {
     "cell_type": "markdown",
     "metadata": {},
     "source": [
      "Diffusing MRI process"
     ]
    },
    {
     "cell_type": "code",
     "collapsed": false,
     "input": [
      "%matplotlib inline\n",
      "import os\n",
      "import nibabel as nib\n",
      "import numpy as np\n",
      "from dipy.core.gradients import gradient_table\n",
      "from dipy.reconst.csdeconv import auto_response\n",
      "from dipy.reconst.csdeconv import ConstrainedSphericalDeconvModel\n",
      "from dipy.viz import fvtk\n",
      "from dipy.data import get_sphere\n",
      "import matplotlib.pyplot as plt\n",
      "#from matplotlib import cm\n",
      "\n",
      "from IPython.display import Image"
     ],
     "language": "python",
     "metadata": {},
     "outputs": [],
     "prompt_number": 42
    },
    {
     "cell_type": "markdown",
     "metadata": {},
     "source": [
      "data path"
     ]
    },
    {
     "cell_type": "code",
     "collapsed": false,
     "input": [
      "data_path=(\"/home/darya/Documents/Python/pyss_talks/data/stanford_hardi\")"
     ],
     "language": "python",
     "metadata": {},
     "outputs": [],
     "prompt_number": 7
    },
    {
     "cell_type": "markdown",
     "metadata": {},
     "source": [
      "Let\u2019s load the data. "
     ]
    },
    {
     "cell_type": "code",
     "collapsed": false,
     "input": [
      "img = nib.load(os.path.join(data_path, 'HARDI150.nii.gz'))\n",
      "data=img.get_data()\n",
      "bval=np.loadtxt(os.path.join(data_path, 'HARDI150.bval'))\n",
      "bvec=np.loadtxt(os.path.join(data_path, 'HARDI150.bvec'))"
     ],
     "language": "python",
     "metadata": {},
     "outputs": [],
     "prompt_number": 11
    },
    {
     "cell_type": "markdown",
     "metadata": {},
     "source": [
      "The acquision specific parameters: b-values, b-vectors use an object called GradientTable. To hold them in this object you can use the function gradient_table."
     ]
    },
    {
     "cell_type": "code",
     "collapsed": false,
     "input": [
      "gt = gradient_table(bval, bvec)"
     ],
     "language": "python",
     "metadata": {},
     "outputs": [],
     "prompt_number": 12
    },
    {
     "cell_type": "markdown",
     "metadata": {},
     "source": [
      "The estimation of the fiber response function.\n",
      "The auto_response function will calculate FA for an ROI of radius equal to roi_radius in the center of the volume and return the response function estimated in that region for the voxels with FA higher than 0.7.\n",
      "response -  eigenvalues\n",
      "ratio - \n",
      "Orientation Distribution Function (ODF)"
     ]
    },
    {
     "cell_type": "code",
     "collapsed": false,
     "input": [
      "response, ratio = auto_response(gt, data, roi_radius=5, fa_thr=0.7)\n",
      "print(response)\n",
      "print(ratio)"
     ],
     "language": "python",
     "metadata": {},
     "outputs": [
      {
       "output_type": "stream",
       "stream": "stdout",
       "text": [
        "(array([ 0.00150549,  0.00030992,  0.00030992]), 432.85591397849464)\n",
        "0.205861824936\n"
       ]
      }
     ],
     "prompt_number": 13
    },
    {
     "cell_type": "markdown",
     "metadata": {},
     "source": [
      "..."
     ]
    },
    {
     "cell_type": "code",
     "collapsed": false,
     "input": [],
     "language": "python",
     "metadata": {},
     "outputs": []
    },
    {
     "cell_type": "markdown",
     "metadata": {},
     "source": [
      "We can double check that we have a good response function by visualizing the response\u2019s function\u2019s ODF. Here is how:\n"
     ]
    },
    {
     "cell_type": "code",
     "collapsed": false,
     "input": [
      "from dipy.viz import fvtk\n",
      "\n",
      "ren = fvtk.ren()\n",
      "\n",
      "evals = response[0]\n",
      "\n",
      "evecs = np.array([[0, 1, 0], [0, 0, 1], [1, 0, 0]]).T\n",
      "\n",
      "from dipy.data import get_sphere\n",
      "\n",
      "sphere = get_sphere('symmetric724')\n",
      "\n",
      "from dipy.sims.voxel import single_tensor_odf\n",
      "\n",
      "response_odf = single_tensor_odf(sphere.vertices, evals, evecs)\n",
      "\n",
      "response_actor = fvtk.sphere_funcs(response_odf, sphere)\n",
      "\n",
      "fvtk.add(ren, response_actor)\n",
      "\n",
      "#print('Saving illustration as csd_response.png')\n",
      "fvtk.record(ren, out_path='csd_response.png', size=(200, 200))\n",
      "#fvtk.show(ren)\n",
      "Image('csd_response.png')"
     ],
     "language": "python",
     "metadata": {},
     "outputs": [
      {
       "metadata": {},
       "output_type": "pyout",
       "png": "[encoded data removed]",
       "prompt_number": 43,
       "text": [
        "<IPython.core.display.Image at 0x7f2315b56f90>"
       ]
      }
     ],
     "prompt_number": 43
    },
    {
     "cell_type": "code",
     "collapsed": false,
     "input": [
      "\n",
      "print(sphere.edges)"
     ],
     "language": "python",
     "metadata": {},
     "outputs": [
      {
       "output_type": "stream",
       "stream": "stdout",
       "text": [
        "[[  0   1]\n",
        " [  0   2]\n",
        " [  1   2]\n",
        " ..., \n",
        " [668 723]\n",
        " [689 723]\n",
        " [702 723]]\n"
       ]
      }
     ],
     "prompt_number": 36
    },
    {
     "cell_type": "code",
     "collapsed": false,
     "input": [],
     "language": "python",
     "metadata": {},
     "outputs": []
    },
    {
     "cell_type": "code",
     "collapsed": false,
     "input": [],
     "language": "python",
     "metadata": {},
     "outputs": []
    },
    {
     "cell_type": "code",
     "collapsed": false,
     "input": [],
     "language": "python",
     "metadata": {},
     "outputs": []
    },
    {
     "cell_type": "code",
     "collapsed": false,
     "input": [],
     "language": "python",
     "metadata": {},
     "outputs": []
    },
    {
     "cell_type": "code",
     "collapsed": false,
     "input": [],
     "language": "python",
     "metadata": {},
     "outputs": []
    },
    {
     "cell_type": "code",
     "collapsed": false,
     "input": [],
     "language": "python",
     "metadata": {},
     "outputs": []
    },
    {
     "cell_type": "code",
     "collapsed": false,
     "input": [],
     "language": "python",
     "metadata": {},
     "outputs": []
    },
    {
     "cell_type": "code",
     "collapsed": false,
     "input": [
      "from dipy.viz import fvtk\n",
      "\n",
      "ren = fvtk.ren()\n",
      "\n",
      "evals = response[0]\n",
      "\n",
      "evecs = np.array([[0, 1, 0], [0, 0, 1], [1, 0, 0]]).T\n",
      "\n",
      "from dipy.data import get_sphere\n",
      "\n",
      "sphere = get_sphere('symmetric724')\n",
      "\n",
      "from dipy.sims.voxel import single_tensor_odf\n",
      "\n",
      "response_odf = single_tensor_odf(sphere.vertices, evals, evecs)\n",
      "\n",
      "response_actor = fvtk.sphere_funcs(response_odf, sphere)\n",
      "\n",
      "fvtk.add(ren, response_actor)\n",
      "\n",
      "print('Saving illustration as csd_response.png')\n"
     ],
     "language": "python",
     "metadata": {},
     "outputs": [
      {
       "output_type": "stream",
       "stream": "stdout",
       "text": [
        "Saving illustration as csd_response.png\n"
       ]
      }
     ],
     "prompt_number": 14
    },
    {
     "cell_type": "code",
     "collapsed": false,
     "input": [
      "note_path=(\"/home/darya/Documents/Python/proba_notebook\")"
     ],
     "language": "python",
     "metadata": {},
     "outputs": [],
     "prompt_number": 18
    },
    {
     "cell_type": "code",
     "collapsed": false,
     "input": [
      "fvtk.show(ren)"
     ],
     "language": "python",
     "metadata": {},
     "outputs": [],
     "prompt_number": 26
    },
    {
     "cell_type": "code",
     "collapsed": false,
     "input": [
      "print(ren)"
     ],
     "language": "python",
     "metadata": {},
     "outputs": [
      {
       "output_type": "stream",
       "stream": "stdout",
       "text": [
        "vtkOpenGLRenderer (0x29e36c0)\n",
        "  Debug: Off\n",
        "  Modified Time: 44973\n",
        "  Reference Count: 1\n",
        "  Registered Events: (none)\n",
        "  Aspect: (1, 1)\n",
        "  PixelAspect: (1, 1)\n",
        "  Background: (0, 0, 0)\n",
        "  Background2: (0.2, 0.2, 0.2)\n",
        "  GradientBackground: Off\n",
        "  Viewport: (0, 0, 1, 1)\n",
        "  Displaypoint: (300, 300, 0.499084)\n",
        "  Viewpoint: (1, 1, 0.499084)\n",
        "  Worldpoint: (-0.0266093, -0.0266093, -1.1, 1)\n",
        "  Pick Position X1 Y1: -1 -1\n",
        "  Pick Position X2 Y2: -1 -1\n",
        "  IsPicking boolean: 0\n",
        "  Props:\n",
        "    Debug: Off\n",
        "    Modified Time: 38571\n",
        "    Reference Count: 1\n",
        "    Registered Events: (none)\n",
        "    Number Of Items: 0\n",
        "  PickResultProps:\n",
        "  NULL\n",
        "  Near Clipping Plane Tolerance: 0.001\n",
        "  Ambient: (1, 1, 1)\n",
        "  Backing Store: Off\n",
        "  Display Point: (300, 300, 0.499084)\n",
        "  Lights:\n",
        "    Debug: Off\n",
        "    Modified Time: 36313\n",
        "    Reference Count: 1\n",
        "    Registered Events: (none)\n",
        "    Number Of Items: 1\n",
        "  Light Follow Camera: On\n",
        "  View Point: (1, 1, 0.499084)\n",
        "  Two Sided Lighting: On\n",
        "  Automatic Light Creation: On\n",
        "  Layer = 0\n",
        "  PreserveDepthBuffer: Off\n",
        "  Interactive = On\n",
        "  Allocated Render Time: 10000\n",
        "  Last Time To Render (Seconds): 0.000371933\n",
        "  TimeFactor: 2.68866e+07\n",
        "  Erase: On\n",
        "  Draw: On\n",
        "  UseDepthPeeling: Off\n",
        "  OcclusionRation: 0\n",
        "  MaximumNumberOfPeels: 4\n",
        "  LastRenderingUsedDepthPeeling: Off\n",
        "  Delegate:null\n",
        "  Selector: 0\n",
        "  Pass:null\n",
        "  TexturedBackground: Off\n",
        "  BackgroundTexture:null\n",
        "  Number Of Lights Bound: 1\n",
        "  PickBuffer 0\n",
        "  PickedId0\n",
        "  NumPicked0\n",
        "  PickedZ 0\n",
        "\n",
        "\n"
       ]
      }
     ],
     "prompt_number": 27
    },
    {
     "cell_type": "code",
     "collapsed": false,
     "input": [],
     "language": "python",
     "metadata": {},
     "outputs": []
    },
    {
     "cell_type": "code",
     "collapsed": false,
     "input": [],
     "language": "python",
     "metadata": {},
     "outputs": []
    },
    {
     "cell_type": "code",
     "collapsed": false,
     "input": [],
     "language": "python",
     "metadata": {},
     "outputs": []
    },
    {
     "cell_type": "code",
     "collapsed": false,
     "input": [
      "fvtk.record(ren, out_path=os.path.join(note_path,'csd_response.png'), size=(200, 200))"
     ],
     "language": "python",
     "metadata": {},
     "outputs": [],
     "prompt_number": 19
    },
    {
     "cell_type": "code",
     "collapsed": false,
     "input": [
      "fvtk.rm(ren, response_actor)"
     ],
     "language": "python",
     "metadata": {},
     "outputs": [],
     "prompt_number": 16
    },
    {
     "cell_type": "code",
     "collapsed": false,
     "input": [
      "show(ren)"
     ],
     "language": "python",
     "metadata": {},
     "outputs": [
      {
       "ename": "NameError",
       "evalue": "name 'show' is not defined",
       "output_type": "pyerr",
       "traceback": [
        "\u001b[1;31m---------------------------------------------------------------------------\u001b[0m\n\u001b[1;31mNameError\u001b[0m                                 Traceback (most recent call last)",
        "\u001b[1;32m<ipython-input-25-729b274a3138>\u001b[0m in \u001b[0;36m<module>\u001b[1;34m()\u001b[0m\n\u001b[1;32m----> 1\u001b[1;33m \u001b[0mshow\u001b[0m\u001b[1;33m(\u001b[0m\u001b[0mren\u001b[0m\u001b[1;33m)\u001b[0m\u001b[1;33m\u001b[0m\u001b[0m\n\u001b[0m",
        "\u001b[1;31mNameError\u001b[0m: name 'show' is not defined"
       ]
      }
     ],
     "prompt_number": 25
    },
    {
     "cell_type": "code",
     "collapsed": false,
     "input": [
      "fig = plt.figure(ren)"
     ],
     "language": "python",
     "metadata": {},
     "outputs": [
      {
       "ename": "TypeError",
       "evalue": "int() argument must be a string or a number, not 'vtkobject'",
       "output_type": "pyerr",
       "traceback": [
        "\u001b[1;31m---------------------------------------------------------------------------\u001b[0m\n\u001b[1;31mTypeError\u001b[0m                                 Traceback (most recent call last)",
        "\u001b[1;32m<ipython-input-23-8fd430c80735>\u001b[0m in \u001b[0;36m<module>\u001b[1;34m()\u001b[0m\n\u001b[1;32m----> 1\u001b[1;33m \u001b[0mfig\u001b[0m \u001b[1;33m=\u001b[0m \u001b[0mplt\u001b[0m\u001b[1;33m.\u001b[0m\u001b[0mfigure\u001b[0m\u001b[1;33m(\u001b[0m\u001b[0mren\u001b[0m\u001b[1;33m)\u001b[0m\u001b[1;33m\u001b[0m\u001b[0m\n\u001b[0m",
        "\u001b[1;32m/home/darya/envs/py2/local/lib/python2.7/site-packages/matplotlib/pyplot.pyc\u001b[0m in \u001b[0;36mfigure\u001b[1;34m(num, figsize, dpi, facecolor, edgecolor, frameon, FigureClass, **kwargs)\u001b[0m\n\u001b[0;32m    395\u001b[0m             \u001b[0mnum\u001b[0m \u001b[1;33m=\u001b[0m \u001b[0mallnums\u001b[0m\u001b[1;33m[\u001b[0m\u001b[0minum\u001b[0m\u001b[1;33m]\u001b[0m\u001b[1;33m\u001b[0m\u001b[0m\n\u001b[0;32m    396\u001b[0m     \u001b[1;32melse\u001b[0m\u001b[1;33m:\u001b[0m\u001b[1;33m\u001b[0m\u001b[0m\n\u001b[1;32m--> 397\u001b[1;33m         \u001b[0mnum\u001b[0m \u001b[1;33m=\u001b[0m \u001b[0mint\u001b[0m\u001b[1;33m(\u001b[0m\u001b[0mnum\u001b[0m\u001b[1;33m)\u001b[0m  \u001b[1;31m# crude validation of num argument\u001b[0m\u001b[1;33m\u001b[0m\u001b[0m\n\u001b[0m\u001b[0;32m    398\u001b[0m \u001b[1;33m\u001b[0m\u001b[0m\n\u001b[0;32m    399\u001b[0m     \u001b[0mfigManager\u001b[0m \u001b[1;33m=\u001b[0m \u001b[0m_pylab_helpers\u001b[0m\u001b[1;33m.\u001b[0m\u001b[0mGcf\u001b[0m\u001b[1;33m.\u001b[0m\u001b[0mget_fig_manager\u001b[0m\u001b[1;33m(\u001b[0m\u001b[0mnum\u001b[0m\u001b[1;33m)\u001b[0m\u001b[1;33m\u001b[0m\u001b[0m\n",
        "\u001b[1;31mTypeError\u001b[0m: int() argument must be a string or a number, not 'vtkobject'"
       ]
      }
     ],
     "prompt_number": 23
    },
    {
     "cell_type": "code",
     "collapsed": false,
     "input": [],
     "language": "python",
     "metadata": {},
     "outputs": []
    }
   ],
   "metadata": {}
  }
 ]
}